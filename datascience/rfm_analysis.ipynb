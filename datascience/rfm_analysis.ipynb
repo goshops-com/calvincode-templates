{
 "cells": [
  {
   "cell_type": "markdown",
   "metadata": {},
   "source": [
    "# Análisis RFM - Segmentación de Clientes\n",
    "\n",
    "Este notebook realiza un análisis RFM (Recency, Frequency, Monetary) sobre los datos de ventas para segmentar a los clientes según su comportamiento de compra:\n",
    "- **Recencia**: ¿Qué tan reciente fue la última compra del cliente?\n",
    "- **Frecuencia**: ¿Con qué frecuencia compra?\n",
    "- **Valor Monetario**: ¿Cuánto dinero gasta?\n",
    "\n",
    "Estas tres métricas ayudan a identificar clientes de alto valor, clientes en riesgo de abandono y otros segmentos importantes para la estrategia comercial."
   ]
  },
  {
   "cell_type": "code",
   "execution_count": null,
   "metadata": {},
   "source": [
    "# Instalación de las librerías necesarias\n",
    "!pip install pandas numpy matplotlib seaborn plotly"
   ],
   "outputs": []
  },
  {
   "cell_type": "code",
   "execution_count": null,
   "metadata": {},
   "source": [
    "# Importar las librerías necesarias\n",
    "import pandas as pd\n",
    "import numpy as np\n",
    "import matplotlib.pyplot as plt\n",
    "import seaborn as sns\n",
    "import plotly.express as px\n",
    "from datetime import datetime, timedelta\n",
    "import warnings\n",
    "\n",
    "warnings.filterwarnings('ignore')\n",
    "plt.style.use('ggplot')\n",
    "%matplotlib inline"
   ],
   "outputs": []
  },
  {
   "cell_type": "markdown",
   "metadata": {},
   "source": [
    "## 1. Carga y Preparación de Datos"
   ]
  },
  {
   "cell_type": "code",
   "execution_count": null,
   "metadata": {},
   "source": [
    "# Cargar los datos de ventas descargando primero los bytes sin procesar y luego decodificando adecuadamente\n",
    "import requests\n",
    "import io\n",
    "\n",
    "url = \"https://pocs.nyc3.cdn.digitaloceanspaces.com/sales_data_sample.csv\"\n",
    "\n",
    "# Descargar los bytes sin procesar\n",
    "response = requests.get(url)\n",
    "raw_data = response.content\n",
    "\n",
    "# Primero, intentar detectar la codificación - probablemente latin1 o cp1252 basado en el error\n",
    "try:\n",
    "    decoded_content = raw_data.decode('latin1')\n",
    "    encoding_used = 'latin1'\n",
    "except UnicodeDecodeError:\n",
    "    try:\n",
    "        decoded_content = raw_data.decode('cp1252')\n",
    "        encoding_used = 'cp1252'\n",
    "    except UnicodeDecodeError:\n",
    "        # Alternativa a una codificación muy permisiva que raramente falla\n",
    "        decoded_content = raw_data.decode('latin1', errors='replace')\n",
    "        encoding_used = 'latin1 with replacement'\n",
    "\n",
    "print(f\"Archivo decodificado exitosamente usando codificación {encoding_used}\")\n",
    "\n",
    "# Cargar el CSV desde el string decodificado correctamente\n",
    "ventas = pd.read_csv(io.StringIO(decoded_content))\n",
    "\n",
    "# Mostrar las primeras filas\n",
    "ventas.head()"
   ],
   "outputs": []
  },
  {
   "cell_type": "code",
   "execution_count": null,
   "metadata": {},
   "source": [
    "# Verificar la forma y la información de los datos\n",
    "print(f\"Forma del dataset: {ventas.shape}\")\n",
    "print(\"\\nTipos de datos:\")\n",
    "ventas.info()"
   ],
   "outputs": []
  },
  {
   "cell_type": "code",
   "execution_count": null,
   "metadata": {},
   "source": [
    "# Verificar valores faltantes\n",
    "valores_faltantes = ventas.isnull().sum()\n",
    "print(\"Valores faltantes:\")\n",
    "print(valores_faltantes[valores_faltantes > 0] if len(valores_faltantes[valores_faltantes > 0]) > 0 else \"No hay valores faltantes\")"
   ],
   "outputs": []
  },
  {
   "cell_type": "code",
   "execution_count": null,
   "metadata": {},
   "source": [
    "# Convertir ORDERDATE a formato datetime\n",
    "ventas['ORDERDATE'] = pd.to_datetime(ventas['ORDERDATE'])\n",
    "\n",
    "# Filtrar pedidos cancelados si existen\n",
    "ventas = ventas[ventas['STATUS'] != 'Cancelled']"
   ],
   "outputs": []
  },
  {
   "cell_type": "markdown",
   "metadata": {},
   "source": [
    "## 2. Cálculo de Métricas RFM"
   ]
  },
  {
   "cell_type": "code",
   "execution_count": null,
   "metadata": {},
   "source": [
    "# Obtener la fecha más reciente en el dataset\n",
    "fecha_max = ventas['ORDERDATE'].max()\n",
    "print(f\"Fecha de pedido más reciente: {fecha_max}\")\n",
    "\n",
    "# Crear fecha de análisis (1 día después del pedido más reciente)\n",
    "fecha_analisis = fecha_max + timedelta(days=1)\n",
    "print(f\"Fecha de análisis: {fecha_analisis}\")"
   ],
   "outputs": []
  },
  {
   "cell_type": "code",
   "execution_count": null,
   "metadata": {},
   "source": [
    "# Agrupar por cliente y calcular métricas RFM\n",
    "rfm = ventas.groupby('CUSTOMERNAME').agg({\n",
    "    'ORDERDATE': lambda x: (fecha_analisis - x.max()).days,  # Recencia\n",
    "    'ORDERNUMBER': 'nunique',  # Frecuencia\n",
    "    'SALES': 'sum'  # Monetario\n",
    "}).reset_index()\n",
    "\n",
    "# Renombrar columnas\n",
    "rfm.rename(columns={\n",
    "    'ORDERDATE': 'Recencia',\n",
    "    'ORDERNUMBER': 'Frecuencia', \n",
    "    'SALES': 'Monetario'\n",
    "}, inplace=True)\n",
    "\n",
    "# Mostrar las primeras filas\n",
    "rfm.head()"
   ],
   "outputs": []
  },
  {
   "cell_type": "code",
   "execution_count": null,
   "metadata": {},
   "source": [
    "# Estadísticas resumidas\n",
    "rfm.describe()"
   ],
   "outputs": []
  },
  {
   "cell_type": "markdown",
   "metadata": {},
   "source": [
    "## 3. Puntuación RFM"
   ]
  },
  {
   "cell_type": "code",
   "execution_count": null,
   "metadata": {},
   "source": [
    "# Crear puntuaciones RFM con manejo robusto de errores\n",
    "\n",
    "# Para Recencia - menor es mejor (compras más recientes)\n",
    "try:\n",
    "    rfm['R_Score'] = pd.qcut(rfm['Recencia'], q=5, labels=[5, 4, 3, 2, 1])\n",
    "except ValueError as e:\n",
    "    print(f\"Advertencia para puntuación de Recencia: {e}\")\n",
    "    # Enfoque alternativo - usar método de rango\n",
    "    rfm['R_Rank'] = rfm['Recencia'].rank(ascending=True)\n",
    "    rfm['R_Score'] = pd.cut(\n",
    "        rfm['R_Rank'], \n",
    "        bins=[0, rfm['R_Rank'].max()*0.2, rfm['R_Rank'].max()*0.4, \n",
    "              rfm['R_Rank'].max()*0.6, rfm['R_Rank'].max()*0.8, rfm['R_Rank'].max()], \n",
    "        labels=[5, 4, 3, 2, 1],\n",
    "        include_lowest=True\n",
    "    )\n",
    "    \n",
    "# Para Frecuencia - mayor es mejor\n",
    "try:\n",
    "    # Primero, verificar cuántos valores únicos tenemos\n",
    "    unique_freq = rfm['Frecuencia'].nunique()\n",
    "    print(f\"Número de valores únicos de frecuencia: {unique_freq}\")\n",
    "    \n",
    "    # Si tenemos valores únicos limitados, ajustar el número de cuantiles\n",
    "    if unique_freq < 5:\n",
    "        print(f\"Advertencia: Solo {unique_freq} valores únicos de frecuencia, usando {unique_freq} cuantiles en lugar de 5\")\n",
    "        # Usar corte regular con bins determinados manualmente\n",
    "        freq_values = sorted(rfm['Frecuencia'].unique())\n",
    "        # Crear etiquetas basadas en el número de valores únicos\n",
    "        freq_labels = list(range(1, unique_freq + 1))\n",
    "        rfm['F_Score'] = pd.cut(rfm['Frecuencia'], bins=[-1] + freq_values, labels=freq_labels)\n",
    "    else:\n",
    "        rfm['F_Score'] = pd.qcut(rfm['Frecuencia'], q=5, labels=[1, 2, 3, 4, 5], duplicates='drop')\n",
    "except ValueError as e:\n",
    "    print(f\"Advertencia para puntuación de Frecuencia: {e}\")\n",
    "    # Enfoque alternativo - usar método de rango\n",
    "    rfm['F_Rank'] = rfm['Frecuencia'].rank(ascending=False)\n",
    "    rfm['F_Score'] = pd.cut(\n",
    "        rfm['F_Rank'], \n",
    "        bins=[0, rfm['F_Rank'].max()*0.2, rfm['F_Rank'].max()*0.4, \n",
    "              rfm['F_Rank'].max()*0.6, rfm['F_Rank'].max()*0.8, rfm['F_Rank'].max()], \n",
    "        labels=[1, 2, 3, 4, 5],\n",
    "        include_lowest=True\n",
    "    )\n",
    "\n",
    "# Para Monetario - mayor es mejor\n",
    "try:\n",
    "    rfm['M_Score'] = pd.qcut(rfm['Monetario'], q=5, labels=[1, 2, 3, 4, 5])\n",
    "except ValueError as e:\n",
    "    print(f\"Advertencia para puntuación de Monetario: {e}\")\n",
    "    # Enfoque alternativo - usar método de rango\n",
    "    rfm['M_Rank'] = rfm['Monetario'].rank(ascending=False)\n",
    "    rfm['M_Score'] = pd.cut(\n",
    "        rfm['M_Rank'], \n",
    "        bins=[0, rfm['M_Rank'].max()*0.2, rfm['M_Rank'].max()*0.4, \n",
    "              rfm['M_Rank'].max()*0.6, rfm['M_Rank'].max()*0.8, rfm['M_Rank'].max()], \n",
    "        labels=[1, 2, 3, 4, 5],\n",
    "        include_lowest=True\n",
    "    )\n",
    "\n",
    "# Calcular puntuación RFM global\n",
    "rfm['RFM_Score'] = rfm['R_Score'].astype(str) + rfm['F_Score'].astype(str) + rfm['M_Score'].astype(str)\n",
    "\n",
    "# Convertir a numérico para segmentación\n",
    "rfm['RFM_Score_Numeric'] = rfm['R_Score'].astype(int) + rfm['F_Score'].astype(int) + rfm['M_Score'].astype(int)\n",
    "\n",
    "# Mostrar las primeras filas con puntuaciones\n",
    "rfm.head()"
   ],
   "outputs": []
  },
  {
   "cell_type": "markdown",
   "metadata": {},
   "source": [
    "## 4. Segmentación de Clientes"
   ]
  },
  {
   "cell_type": "code",
   "execution_count": null,
   "metadata": {},
   "source": [
    "# Definir segmentos RFM\n",
    "def segmento_rfm(r, f, m):\n",
    "    if r >= 4 and f >= 4 and m >= 4:\n",
    "        return 'Campeones'\n",
    "    elif (r >= 2 and r <= 4) and (f >= 3 and f <= 4) and (m >= 3):\n",
    "        return 'Clientes Leales'\n",
    "    elif (r >= 3 and r <= 5) and (f >= 1 and f <= 3) and (m >= 1 and m <= 3):\n",
    "        return 'Potenciales Leales'\n",
    "    elif r >= 4 and (f >= 0 and f <= 1) and (m >= 0 and m <= 1):\n",
    "        return 'Clientes Nuevos'\n",
    "    elif (r >= 3 and r <= 4) and (f >= 0 and f <= 1) and (m >= 0 and m <= 1):\n",
    "        return 'Prometedores'\n",
    "    elif (r >= 2 and r <= 3) and (f >= 2 and f <= 3) and (m >= 2 and m <= 3):\n",
    "        return 'Necesitan Atención'\n",
    "    elif (r >= 2 and r <= 3) and (f >= 0 and f <= 2) and (m >= 0 and m <= 2):\n",
    "        return 'A Punto de Dormir'\n",
    "    elif r <= 2 and f >= 2 and m >= 2:\n",
    "        return 'En Riesgo'\n",
    "    elif r <= 1 and (f >= 4 and f <= 5) and (m >= 4 and m <= 5):\n",
    "        return 'No Podemos Perderlos'\n",
    "    elif (r >= 1 and r <= 2) and (f >= 1 and f <= 2) and m >= 2:\n",
    "        return 'Hibernando'\n",
    "    else:\n",
    "        return 'Perdidos'\n",
    "    \n",
    "# Aplicar la función de segmentación\n",
    "rfm['Segmento'] = rfm.apply(lambda x: segmento_rfm(x['R_Score'], x['F_Score'], x['M_Score']), axis=1)\n",
    "\n",
    "# Mostrar conteos de segmentos\n",
    "conteo_segmentos = rfm['Segmento'].value_counts().reset_index()\n",
    "conteo_segmentos.columns = ['Segmento', 'Cantidad']\n",
    "conteo_segmentos"
   ],
   "outputs": []
  },
  {
   "cell_type": "markdown",
   "metadata": {},
   "source": [
    "## 5. Visualizaciones del Análisis RFM"
   ]
  },
  {
   "cell_type": "code",
   "execution_count": null,
   "metadata": {},
   "source": [
    "# Graficar la distribución de segmentos de clientes\n",
    "plt.figure(figsize=(12, 6))\n",
    "sns.barplot(x='Segmento', y='Cantidad', data=conteo_segmentos.sort_values('Cantidad', ascending=False))\n",
    "plt.title('Distribución de Segmentos de Clientes', fontsize=16)\n",
    "plt.xticks(rotation=45, ha='right')\n",
    "plt.tight_layout()\n",
    "plt.show()"
   ],
   "outputs": []
  },
  {
   "cell_type": "code",
   "execution_count": null,
   "metadata": {},
   "source": [
    "# Calcular métricas promedio por segmento\n",
    "promedio_segmentos = rfm.groupby('Segmento').agg({\n",
    "    'Recencia': 'mean',\n",
    "    'Frecuencia': 'mean',\n",
    "    'Monetario': 'mean',\n",
    "    'CUSTOMERNAME': 'count'\n",
    "}).reset_index()\n",
    "\n",
    "promedio_segmentos = promedio_segmentos.rename(columns={'CUSTOMERNAME': 'Cantidad'})\n",
    "promedio_segmentos = promedio_segmentos.sort_values('Cantidad', ascending=False)\n",
    "\n",
    "# Redondear los valores para mejor legibilidad\n",
    "promedio_segmentos['Recencia'] = promedio_segmentos['Recencia'].round(1)\n",
    "promedio_segmentos['Frecuencia'] = promedio_segmentos['Frecuencia'].round(1)\n",
    "promedio_segmentos['Monetario'] = promedio_segmentos['Monetario'].round(2)\n",
    "\n",
    "promedio_segmentos"
   ],
   "outputs": []
  },
  {
   "cell_type": "code",
   "execution_count": null,
   "metadata": {},
   "source": [
    "# Crear un mapa de calor de rendimiento de segmentos\n",
    "try:\n",
    "    plt.figure(figsize=(12, 8))\n",
    "    \n",
    "    # Crear una tabla pivot adecuada\n",
    "    segmento_pivot = promedio_segmentos.set_index('Segmento')[['Recencia', 'Frecuencia', 'Monetario']]\n",
    "    \n",
    "    # Graficar el mapa de calor\n",
    "    ax = sns.heatmap(segmento_pivot, annot=True, cmap='YlGnBu', fmt='.1f')\n",
    "    plt.title('Mapa de Calor de Rendimiento por Segmento', fontsize=16)\n",
    "    plt.tight_layout()\n",
    "    plt.show()\n",
    "    \n",
    "except Exception as e:\n",
    "    print(f\"Error al crear mapa de calor: {e}\")\n",
    "    print(\"\\nAlternativa: mostrar como tabla:\")\n",
    "    display(promedio_segmentos[['Segmento', 'Recencia', 'Frecuencia', 'Monetario']].sort_values('Segmento'))"
   ],
   "outputs": []
  },
  {
   "cell_type": "code",
   "execution_count": null,
   "metadata": {},
   "source": [
    "# Visualizar el espacio RFM en 3D\n",
    "fig = px.scatter_3d(rfm, x='Recencia', y='Frecuencia', z='Monetario',\n",
    "                   color='Segmento', hover_name='CUSTOMERNAME',\n",
    "                   opacity=0.7, width=900, height=700)\n",
    "fig.update_layout(title='Segmentación RFM en 3D')\n",
    "fig.show()"
   ],
   "outputs": []
  },
  {
   "cell_type": "markdown",
   "metadata": {},
   "source": [
    "## 6. Análisis más Profundo por Segmento"
   ]
  },
  {
   "cell_type": "code",
   "execution_count": null,
   "metadata": {},
   "source": [
    "# Combinar los datos de ventas originales con los segmentos RFM\n",
    "ventas_con_segmento = pd.merge(ventas, rfm[['CUSTOMERNAME', 'Segmento']], on='CUSTOMERNAME', how='left')\n",
    "\n",
    "# Agrupar por segmento y calcular métricas\n",
    "ventas_segmento = ventas_con_segmento.groupby('Segmento').agg({\n",
    "    'SALES': 'sum',\n",
    "    'ORDERNUMBER': 'nunique',\n",
    "    'CUSTOMERNAME': 'nunique'\n",
    "}).reset_index()\n",
    "\n",
    "ventas_segmento.columns = ['Segmento', 'Ventas Totales', 'Total Pedidos', 'Cantidad Clientes']\n",
    "ventas_segmento['Valor Promedio Pedido'] = ventas_segmento['Ventas Totales'] / ventas_segmento['Total Pedidos']\n",
    "ventas_segmento['Valor Promedio Cliente'] = ventas_segmento['Ventas Totales'] / ventas_segmento['Cantidad Clientes']\n",
    "\n",
    "# Redondear los valores\n",
    "ventas_segmento['Valor Promedio Pedido'] = ventas_segmento['Valor Promedio Pedido'].round(2)\n",
    "ventas_segmento['Valor Promedio Cliente'] = ventas_segmento['Valor Promedio Cliente'].round(2)\n",
    "ventas_segmento['Ventas Totales'] = ventas_segmento['Ventas Totales'].round(2)\n",
    "\n",
    "# Ordenar por ventas totales\n",
    "ventas_segmento = ventas_segmento.sort_values('Ventas Totales', ascending=False)\n",
    "ventas_segmento"
   ],
   "outputs": []
  },
  {
   "cell_type": "code",
   "execution_count": null,
   "metadata": {},
   "source": [
    "# Visualizar el valor promedio del cliente por segmento\n",
    "plt.figure(figsize=(12, 6))\n",
    "sns.barplot(x='Segmento', y='Valor Promedio Cliente', data=ventas_segmento.sort_values('Valor Promedio Cliente', ascending=False))\n",
    "plt.title('Valor Promedio del Cliente por Segmento', fontsize=16)\n",
    "plt.xticks(rotation=45, ha='right')\n",
    "plt.tight_layout()\n",
    "plt.show()"
   ],
   "outputs": []
  },
  {
   "cell_type": "code",
   "execution_count": null,
   "metadata": {},
   "source": [
    "# Visualizar el porcentaje de ventas totales por segmento\n",
    "plt.figure(figsize=(10, 10))\n",
    "ventas_segmento['Porcentaje Ventas'] = ventas_segmento['Ventas Totales'] / ventas_segmento['Ventas Totales'].sum() * 100\n",
    "plt.pie(ventas_segmento['Porcentaje Ventas'], labels=ventas_segmento['Segmento'], autopct='%1.1f%%', \n",
    "        startangle=90, shadow=True, explode=[0.05]*len(ventas_segmento))\n",
    "plt.title('Porcentaje de Ventas Totales por Segmento de Cliente', fontsize=16)\n",
    "plt.axis('equal')\n",
    "plt.show()"
   ],
   "outputs": []
  },
  {
   "cell_type": "markdown",
   "metadata": {},
   "source": [
    "## 7. Análisis de Línea de Producto por Segmento"
   ]
  },
  {
   "cell_type": "code",
   "execution_count": null,
   "metadata": {},
   "source": [
    "# Analizar preferencias de producto por segmento\n",
    "producto_segmento = ventas_con_segmento.groupby(['Segmento', 'PRODUCTLINE']).agg({\n",
    "    'SALES': 'sum',\n",
    "    'ORDERNUMBER': 'nunique'\n",
    "}).reset_index()\n",
    "\n",
    "# Ordenar por segmento y ventas\n",
    "producto_segmento = producto_segmento.sort_values(['Segmento', 'SALES'], ascending=[True, False])\n",
    "producto_segmento"
   ],
   "outputs": []
  },
  {
   "cell_type": "code",
   "execution_count": null,
   "metadata": {},
   "source": [
    "# Crear una tabla pivot para mejor visualización\n",
    "producto_pivot = ventas_con_segmento.pivot_table(index='Segmento', \n",
    "                                              columns='PRODUCTLINE', \n",
    "                                              values='SALES', \n",
    "                                              aggfunc='sum')\n",
    "\n",
    "# Visualizar las preferencias de producto\n",
    "plt.figure(figsize=(14, 10))\n",
    "sns.heatmap(producto_pivot, annot=True, fmt='.0f', cmap='viridis')\n",
    "plt.title('Preferencias de Línea de Producto por Segmento de Cliente', fontsize=16)\n",
    "plt.tight_layout()\n",
    "plt.show()"
   ],
   "outputs": []
  },
  {
   "cell_type": "markdown",
   "metadata": {},
   "source": [
    "## 8. Análisis Regional por Segmento"
   ]
  },
  {
   "cell_type": "code",
   "execution_count": null,
   "metadata": {},
   "source": [
    "# Analizar distribución regional por segmento\n",
    "region_segmento = ventas_con_segmento.groupby(['Segmento', 'COUNTRY']).agg({\n",
    "    'CUSTOMERNAME': 'nunique',\n",
    "    'SALES': 'sum'\n",
    "}).reset_index()\n",
    "\n",
    "# Ordenar por segmento y número de clientes\n",
    "region_segmento = region_segmento.sort_values(['Segmento', 'CUSTOMERNAME'], ascending=[True, False])\n",
    "region_segmento.columns = ['Segmento', 'País', 'Cantidad Clientes', 'Ventas Totales']\n",
    "\n",
    "# Obtener los 5 principales países por segmento\n",
    "def get_top_n(group, n=3):\n",
    "    return group.nlargest(n, 'Cantidad Clientes')\n",
    "\n",
    "top_paises = region_segmento.groupby('Segmento').apply(get_top_n).reset_index(drop=True)\n",
    "top_paises"
   ],
   "outputs": []
  },
  {
   "cell_type": "code",
   "execution_count": null,
   "metadata": {},
   "source": [
    "# Graficar los principales países para segmentos seleccionados\n",
    "segmentos_importantes = ['Campeones', 'Clientes Leales', 'En Riesgo', 'No Podemos Perderlos']\n",
    "datos_filtrados = top_paises[top_paises['Segmento'].isin(segmentos_importantes)]\n",
    "\n",
    "plt.figure(figsize=(14, 8))\n",
    "chart = sns.barplot(x='País', y='Cantidad Clientes', hue='Segmento', data=datos_filtrados)\n",
    "plt.title('Principales Países por Segmentos de Clientes Importantes', fontsize=16)\n",
    "plt.xticks(rotation=45, ha='right')\n",
    "plt.legend(title='Segmento')\n",
    "plt.tight_layout()\n",
    "plt.show()"
   ],
   "outputs": []
  },
  {
   "cell_type": "markdown",
   "metadata": {},
   "source": [
    "## 9. Recomendaciones para Segmentos RFM"
   ]
  },
  {
   "cell_type": "code",
   "execution_count": null,
   "metadata": {},
   "source": [
    "# Crear un dataframe con descripciones de segmentos y acciones recomendadas\n",
    "descripciones_segmentos = pd.DataFrame({\n",
    "    'Segmento': [\n",
    "        'Campeones', 'Clientes Leales', 'Potenciales Leales', 'Clientes Nuevos',\n",
    "        'Prometedores', 'Necesitan Atención', 'A Punto de Dormir',\n",
    "        'En Riesgo', 'No Podemos Perderlos', 'Hibernando', 'Perdidos'\n",
    "    ],\n",
    "    'Descripción': [\n",
    "        'Mejores clientes que compran con frecuencia y gastan más',\n",
    "        'Compradores regulares con valor monetario superior al promedio',\n",
    "        'Clientes recientes con frecuencia moderada, podrían volverse leales',\n",
    "        'Clientes que recientemente hicieron sus primeras compras',\n",
    "        'Compradores recientes que no han gastado mucho',\n",
    "        'Valores promedio de recencia, frecuencia y monetario',\n",
    "        'Recencia y frecuencia por debajo del promedio, en riesgo de pérdida',\n",
    "        'Clientes que alguna vez fueron valiosos pero no han comprado recientemente',\n",
    "        'Hicieron grandes compras hace tiempo, pero no han regresado recientemente',\n",
    "        'Baja recencia y frecuencia, pero valor monetario superior al promedio',\n",
    "        'Valores más bajos de recencia, frecuencia y monetario'\n",
    "    ],\n",
    "    'Acciones Recomendadas': [\n",
    "        'Recompensar, vender productos premium, buscar reseñas, crear embajadores de marca',\n",
    "        'Involucrar con programas de lealtad, comunicación personalizada, ofertas exclusivas',\n",
    "        'Ofertas dirigidas, acceso anticipado a productos, fomentar compras más frecuentes',\n",
    "        'Serie de bienvenida, educación sobre propuesta de valor, promociones para primeras compras',\n",
    "        'Proporcionar incentivos para primera compra, construir relación, contenido educativo',\n",
    "        'Campañas de reactivación, encuestas de satisfacción, recomendaciones personalizadas',\n",
    "        'Reactivación con mayores incentivos, recordar propuesta de valor',\n",
    "        'Campañas de recuperación, descuentos profundos, contenido de reenganche',\n",
    "        'Contacto de reactivación, ofertas especiales de renovación, trato VIP',\n",
    "        'Campañas de reactivación, recordar compras pasadas, alertas de nuevos productos',\n",
    "        'Descuentos muy profundos o eliminar de lista de marketing para ahorrar costos'\n",
    "    ]\n",
    "})\n",
    "\n",
    "descripciones_segmentos"
   ],
   "outputs": []
  },
  {
   "cell_type": "markdown",
   "metadata": {},
   "source": [
    "## 10. Exportar Principales Clientes por Segmento"
   ]
  },
  {
   "cell_type": "code",
   "execution_count": null,
   "metadata": {},
   "source": [
    "# Obtener los 5 principales clientes por valor monetario en cada segmento\n",
    "top_clientes = rfm.sort_values(['Segmento', 'Monetario'], ascending=[True, False])\n",
    "top_clientes_segmento = top_clientes.groupby('Segmento').head(5)\n",
    "\n",
    "# Seleccionar columnas relevantes para el informe final\n",
    "top_clientes_segmento = top_clientes_segmento[['CUSTOMERNAME', 'Segmento', 'Recencia', 'Frecuencia', 'Monetario']]\n",
    "top_clientes_segmento.sort_values(['Segmento', 'Monetario'], ascending=[True, False])"
   ],
   "outputs": []
  },
  {
   "cell_type": "markdown",
   "metadata": {},
   "source": [
    "## 11. Resumen Ejecutivo RFM\n",
    "\n",
    "Basado en nuestro análisis RFM, hemos segmentado la base de clientes en diferentes grupos según su comportamiento de compra. Estos son los hallazgos clave:\n",
    "\n",
    "1. **Campeones** - Estos son nuestros mejores clientes, que compran con frecuencia y gastan más. Deben priorizarse para recompensas, ofertas especiales y programas de referencia.\n",
    "\n",
    "2. **Clientes en Riesgo** - Hemos identificado un segmento de clientes que alguna vez fueron valiosos pero que no han comprado recientemente. Estos necesitan atención inmediata con campañas de recuperación.\n",
    "\n",
    "3. **Potenciales Leales** - Clientes recientes con frecuencia moderada que podrían convertirse en clientes leales con el enfoque adecuado.\n",
    "\n",
    "4. **Preferencias de Producto** - Diferentes segmentos muestran distintas preferencias de producto que pueden aprovecharse para campañas de marketing dirigidas.\n",
    "\n",
    "5. **Distribución Regional** - Los segmentos de clientes no están distribuidos uniformemente entre regiones, lo que sugiere oportunidades para estrategias específicas por región.\n",
    "\n",
    "**Recomendaciones:**\n",
    "- Implementar estrategias de marketing específicas para cada segmento basadas en las recomendaciones proporcionadas\n",
    "- Crear flujos de trabajo automatizados para mantener actualizada la información de segmentación de clientes\n",
    "- Desarrollar dashboards para hacer seguimiento a la migración de segmentos a lo largo del tiempo\n",
    "- Diseñar experimentos para probar la efectividad de las acciones de marketing específicas por segmento"
   ]
  }
 ],
 "metadata": {
  "kernelspec": {
   "display_name": "Python 3",
   "language": "python",
   "name": "python3"
  },
  "language_info": {
   "codemirror_mode": {
    "name": "ipython",
    "version": 3
   },
   "file_extension": ".py",
   "mimetype": "text/x-python",
   "name": "python",
   "nbconvert_exporter": "python",
   "pygments_lexer": "ipython3",
   "version": "3.8.10"
  }
 },
 "nbformat": 4,
 "nbformat_minor": 4
}