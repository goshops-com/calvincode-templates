{
 "cells": [
  {
   "cell_type": "markdown",
   "metadata": {},
   "source": [
    "# RFM Analysis - Customer Segmentation\n",
    "\n",
    "This notebook performs an RFM (Recency, Frequency, Monetary) analysis on sales data to segment customers based on their purchasing behavior:\n",
    "- **Recency**: How recently did the customer purchase?\n",
    "- **Frequency**: How often do they purchase?\n",
    "- **Monetary**: How much do they spend?\n",
    "\n",
    "These three metrics help identify high-value customers, customers at risk of churn, and other important segments."
   ]
  },
  {
   "cell_type": "code",
   "execution_count": null,
   "metadata": {},
   "source": [
    "# Install required libraries\n",
    "!pip install pandas numpy matplotlib seaborn plotly"
   ],
   "outputs": []
  },
  {
   "cell_type": "code",
   "execution_count": null,
   "metadata": {},
   "source": [
    "# Import necessary libraries\n",
    "import pandas as pd\n",
    "import numpy as np\n",
    "import matplotlib.pyplot as plt\n",
    "import seaborn as sns\n",
    "import plotly.express as px\n",
    "from datetime import datetime, timedelta\n",
    "import warnings\n",
    "\n",
    "warnings.filterwarnings('ignore')\n",
    "plt.style.use('ggplot')\n",
    "%matplotlib inline"
   ],
   "outputs": []
  },
  {
   "cell_type": "markdown",
   "metadata": {},
   "source": [
    "## 1. Data Loading and Preparation"
   ]
  },
  {
   "cell_type": "code",
   "execution_count": null,
   "metadata": {},
   "source": [
    "# Load the sales data by first downloading the raw bytes and then decoding properly\n",
    "import requests\n",
    "import io\n",
    "\n",
    "url = \"https://pocs.nyc3.cdn.digitaloceanspaces.com/sales_data_sample.csv\"\n",
    "\n",
    "# Download the raw bytes\n",
    "response = requests.get(url)\n",
    "raw_data = response.content\n",
    "\n",
    "# First, try to detect encoding - most likely latin1 or cp1252 based on the error\n",
    "try:\n",
    "    decoded_content = raw_data.decode('latin1')\n",
    "    encoding_used = 'latin1'\n",
    "except UnicodeDecodeError:\n",
    "    try:\n",
    "        decoded_content = raw_data.decode('cp1252')\n",
    "        encoding_used = 'cp1252'\n",
    "    except UnicodeDecodeError:\n",
    "        # Fallback to a very permissive encoding that rarely fails\n",
    "        decoded_content = raw_data.decode('latin1', errors='replace')\n",
    "        encoding_used = 'latin1 with replacement'\n",
    "\n",
    "print(f\"Successfully decoded file using {encoding_used} encoding\")\n",
    "\n",
    "# Load the CSV from the properly decoded string\n",
    "sales_data = pd.read_csv(io.StringIO(decoded_content))\n",
    "\n",
    "# Display the first few rows\n",
    "sales_data.head()"
   ],
   "outputs": []
  },
  {
   "cell_type": "code",
   "execution_count": null,
   "metadata": {},
   "source": [
    "# Check the data shape and information\n",
    "print(f\"Dataset Shape: {sales_data.shape}\")\n",
    "print(\"\\nData Types:\")\n",
    "sales_data.info()"
   ],
   "outputs": []
  },
  {
   "cell_type": "code",
   "execution_count": null,
   "metadata": {},
   "source": [
    "# Check for missing values\n",
    "missing_values = sales_data.isnull().sum()\n",
    "print(\"Missing Values:\")\n",
    "print(missing_values[missing_values > 0] if len(missing_values[missing_values > 0]) > 0 else \"No missing values\")"
   ],
   "outputs": []
  },
  {
   "cell_type": "code",
   "execution_count": null,
   "metadata": {},
   "source": [
    "# Convert ORDERDATE to datetime format\n",
    "sales_data['ORDERDATE'] = pd.to_datetime(sales_data['ORDERDATE'])\n",
    "\n",
    "# Filter out canceled orders if present\n",
    "sales_data = sales_data[sales_data['STATUS'] != 'Cancelled']"
   ],
   "outputs": []
  },
  {
   "cell_type": "markdown",
   "metadata": {},
   "source": [
    "## 2. RFM Metrics Calculation"
   ]
  },
  {
   "cell_type": "code",
   "execution_count": null,
   "metadata": {},
   "source": [
    "# Get the most recent date in the dataset\n",
    "max_date = sales_data['ORDERDATE'].max()\n",
    "print(f\"Most recent order date: {max_date}\")\n",
    "\n",
    "# Create analysis date (1 day after the most recent order)\n",
    "analysis_date = max_date + timedelta(days=1)\n",
    "print(f\"Analysis date: {analysis_date}\")"
   ],
   "outputs": []
  },
  {
   "cell_type": "code",
   "execution_count": null,
   "metadata": {},
   "source": [
    "# Group by customer and calculate RFM metrics\n",
    "rfm = sales_data.groupby('CUSTOMERNAME').agg({\n",
    "    'ORDERDATE': lambda x: (analysis_date - x.max()).days,  # Recency\n",
    "    'ORDERNUMBER': 'nunique',  # Frequency\n",
    "    'SALES': 'sum'  # Monetary\n",
    "}).reset_index()\n",
    "\n",
    "# Rename columns\n",
    "rfm.rename(columns={\n",
    "    'ORDERDATE': 'Recency',\n",
    "    'ORDERNUMBER': 'Frequency', \n",
    "    'SALES': 'Monetary'\n",
    "}, inplace=True)\n",
    "\n",
    "# Display the first few rows\n",
    "rfm.head()"
   ],
   "outputs": []
  },
  {
   "cell_type": "code",
   "execution_count": null,
   "metadata": {},
   "source": [
    "# Summary statistics\n",
    "rfm.describe()"
   ],
   "outputs": []
  },
  {
   "cell_type": "markdown",
   "metadata": {},
   "source": [
    "## 3. RFM Scoring"
   ]
  },
  {
   "cell_type": "code",
   "execution_count": null,
   "metadata": {},
   "source": [
    "# Create RFM scores with robust error handling\n",
    "\n",
    "# For Recency - lower is better (more recent purchases)\n",
    "try:\n",
    "    rfm['R_Score'] = pd.qcut(rfm['Recency'], q=5, labels=[5, 4, 3, 2, 1])\n",
    "except ValueError as e:\n",
    "    print(f\"Warning for Recency scoring: {e}\")\n",
    "    # Alternative approach - use rank method\n",
    "    rfm['R_Rank'] = rfm['Recency'].rank(ascending=True)\n",
    "    rfm['R_Score'] = pd.cut(\n",
    "        rfm['R_Rank'], \n",
    "        bins=[0, rfm['R_Rank'].max()*0.2, rfm['R_Rank'].max()*0.4, \n",
    "              rfm['R_Rank'].max()*0.6, rfm['R_Rank'].max()*0.8, rfm['R_Rank'].max()], \n",
    "        labels=[5, 4, 3, 2, 1],\n",
    "        include_lowest=True\n",
    "    )\n",
    "    \n",
    "# For Frequency - higher is better\n",
    "try:\n",
    "    # First, check how many unique values we have\n",
    "    unique_freq = rfm['Frequency'].nunique()\n",
    "    print(f\"Number of unique frequency values: {unique_freq}\")\n",
    "    \n",
    "    # If we have limited unique values, adjust the number of quantiles\n",
    "    if unique_freq < 5:\n",
    "        print(f\"Warning: Only {unique_freq} unique frequency values, using {unique_freq} quantiles instead of 5\")\n",
    "        # Use regular cut with manually determined bins\n",
    "        freq_values = sorted(rfm['Frequency'].unique())\n",
    "        # Create labels based on number of unique values\n",
    "        freq_labels = list(range(1, unique_freq + 1))\n",
    "        rfm['F_Score'] = pd.cut(rfm['Frequency'], bins=[-1] + freq_values, labels=freq_labels)\n",
    "    else:\n",
    "        rfm['F_Score'] = pd.qcut(rfm['Frequency'], q=5, labels=[1, 2, 3, 4, 5], duplicates='drop')\n",
    "except ValueError as e:\n",
    "    print(f\"Warning for Frequency scoring: {e}\")\n",
    "    # Alternative approach - use rank method\n",
    "    rfm['F_Rank'] = rfm['Frequency'].rank(ascending=False)\n",
    "    rfm['F_Score'] = pd.cut(\n",
    "        rfm['F_Rank'], \n",
    "        bins=[0, rfm['F_Rank'].max()*0.2, rfm['F_Rank'].max()*0.4, \n",
    "              rfm['F_Rank'].max()*0.6, rfm['F_Rank'].max()*0.8, rfm['F_Rank'].max()], \n",
    "        labels=[1, 2, 3, 4, 5],\n",
    "        include_lowest=True\n",
    "    )\n",
    "\n",
    "# For Monetary - higher is better\n",
    "try:\n",
    "    rfm['M_Score'] = pd.qcut(rfm['Monetary'], q=5, labels=[1, 2, 3, 4, 5])\n",
    "except ValueError as e:\n",
    "    print(f\"Warning for Monetary scoring: {e}\")\n",
    "    # Alternative approach - use rank method\n",
    "    rfm['M_Rank'] = rfm['Monetary'].rank(ascending=False)\n",
    "    rfm['M_Score'] = pd.cut(\n",
    "        rfm['M_Rank'], \n",
    "        bins=[0, rfm['M_Rank'].max()*0.2, rfm['M_Rank'].max()*0.4, \n",
    "              rfm['M_Rank'].max()*0.6, rfm['M_Rank'].max()*0.8, rfm['M_Rank'].max()], \n",
    "        labels=[1, 2, 3, 4, 5],\n",
    "        include_lowest=True\n",
    "    )\n",
    "\n",
    "# Calculate overall RFM Score\n",
    "rfm['RFM_Score'] = rfm['R_Score'].astype(str) + rfm['F_Score'].astype(str) + rfm['M_Score'].astype(str)\n",
    "\n",
    "# Convert to numeric for segmentation\n",
    "rfm['RFM_Score_Numeric'] = rfm['R_Score'].astype(int) + rfm['F_Score'].astype(int) + rfm['M_Score'].astype(int)\n",
    "\n",
    "# Display the first few rows with scores\n",
    "rfm.head()"
   ],
   "outputs": []
  },
  {
   "cell_type": "markdown",
   "metadata": {},
   "source": [
    "## 4. Customer Segmentation"
   ]
  },
  {
   "cell_type": "code",
   "execution_count": null,
   "metadata": {},
   "source": [
    "# Define RFM segments\n",
    "def rfm_segment(r, f, m):\n",
    "    if r >= 4 and f >= 4 and m >= 4:\n",
    "        return 'Champions'\n",
    "    elif (r >= 2 and r <= 4) and (f >= 3 and f <= 4) and (m >= 3):\n",
    "        return 'Loyal Customers'\n",
    "    elif (r >= 3 and r <= 5) and (f >= 1 and f <= 3) and (m >= 1 and m <= 3):\n",
    "        return 'Potential Loyalists'\n",
    "    elif r >= 4 and (f >= 0 and f <= 1) and (m >= 0 and m <= 1):\n",
    "        return 'New Customers'\n",
    "    elif (r >= 3 and r <= 4) and (f >= 0 and f <= 1) and (m >= 0 and m <= 1):\n",
    "        return 'Promising'\n",
    "    elif (r >= 2 and r <= 3) and (f >= 2 and f <= 3) and (m >= 2 and m <= 3):\n",
    "        return 'Customers Needing Attention'\n",
    "    elif (r >= 2 and r <= 3) and (f >= 0 and f <= 2) and (m >= 0 and m <= 2):\n",
    "        return 'About To Sleep'\n",
    "    elif r <= 2 and f >= 2 and m >= 2:\n",
    "        return 'At Risk'\n",
    "    elif r <= 1 and (f >= 4 and f <= 5) and (m >= 4 and m <= 5):\n",
    "        return 'Cant Lose Them'\n",
    "    elif (r >= 1 and r <= 2) and (f >= 1 and f <= 2) and m >= 2:\n",
    "        return 'Hibernating'\n",
    "    else:\n",
    "        return 'Lost'\n",
    "    \n",
    "# Apply the segmentation function\n",
    "rfm['Segment'] = rfm.apply(lambda x: rfm_segment(x['R_Score'], x['F_Score'], x['M_Score']), axis=1)\n",
    "\n",
    "# Display segment counts\n",
    "segment_counts = rfm['Segment'].value_counts().reset_index()\n",
    "segment_counts.columns = ['Segment', 'Count']\n",
    "segment_counts"
   ],
   "outputs": []
  },
  {
   "cell_type": "markdown",
   "metadata": {},
   "source": [
    "## 5. RFM Analysis Visualizations"
   ]
  },
  {
   "cell_type": "code",
   "execution_count": null,
   "metadata": {},
   "source": [
    "# Plot the distribution of customer segments\n",
    "plt.figure(figsize=(12, 6))\n",
    "sns.barplot(x='Segment', y='Count', data=segment_counts.sort_values('Count', ascending=False))\n",
    "plt.title('Customer Segments Distribution', fontsize=16)\n",
    "plt.xticks(rotation=45, ha='right')\n",
    "plt.tight_layout()\n",
    "plt.show()"
   ],
   "outputs": []
  },
  {
   "cell_type": "code",
   "execution_count": null,
   "metadata": {},
   "source": [
    "# Calculate average metrics by segment\n",
    "segment_avg = rfm.groupby('Segment').agg({\n",
    "    'Recency': 'mean',\n",
    "    'Frequency': 'mean',\n",
    "    'Monetary': 'mean',\n",
    "    'CUSTOMERNAME': 'count'\n",
    "}).reset_index()\n",
    "\n",
    "segment_avg = segment_avg.rename(columns={'CUSTOMERNAME': 'Count'})\n",
    "segment_avg = segment_avg.sort_values('Count', ascending=False)\n",
    "\n",
    "# Round the values for better readability\n",
    "segment_avg['Recency'] = segment_avg['Recency'].round(1)\n",
    "segment_avg['Frequency'] = segment_avg['Frequency'].round(1)\n",
    "segment_avg['Monetary'] = segment_avg['Monetary'].round(2)\n",
    "\n",
    "segment_avg"
   ],
   "outputs": []
  },
  {
   "cell_type": "code",
   "execution_count": null,
   "metadata": {},
   "source": [
    "# Create a heatmap of segment performance\n",
    "try:\n",
    "    plt.figure(figsize=(12, 8))\n",
    "    \n",
    "    # Print the dataframe structure to help debug\n",
    "    print(\"Segment average dataframe structure:\")\n",
    "    print(segment_avg.columns)\n",
    "    print(segment_avg.head(2))\n",
    "    \n",
    "    # Method 1: Try using pivot\n",
    "    try:\n",
    "        # Create a proper pivot table without the None column parameter\n",
    "        segment_pivot = segment_avg.pivot(index='Segment', values=['Recency', 'Frequency', 'Monetary'])\n",
    "        print(\"\\nPivot successful\")\n",
    "    except Exception as e1:\n",
    "        print(f\"\\nPivot failed: {e1}\")\n",
    "        # Method 2: Alternative approach - just use the dataframe directly\n",
    "        try:\n",
    "            segment_pivot = segment_avg.set_index('Segment')[['Recency', 'Frequency', 'Monetary']]\n",
    "            print(\"\\nAlternative method successful\")\n",
    "        except Exception as e2:\n",
    "            print(f\"\\nAlternative method failed: {e2}\")\n",
    "            # Method 3: Last resort - create a new dataframe manually\n",
    "            segment_data = []\n",
    "            for segment in segment_avg['Segment'].unique():\n",
    "                row = segment_avg[segment_avg['Segment'] == segment].iloc[0]\n",
    "                segment_data.append({\n",
    "                    'Segment': segment,\n",
    "                    'Recency': row['Recency'] if 'Recency' in row else 0,\n",
    "                    'Frequency': row['Frequency'] if 'Frequency' in row else 0,\n",
    "                    'Monetary': row['Monetary'] if 'Monetary' in row else 0\n",
    "                })\n",
    "            segment_pivot = pd.DataFrame(segment_data).set_index('Segment')\n",
    "            print(\"\\nManual creation method successful\")\n",
    "    \n",
    "    # Check if we have a valid dataframe to plot\n",
    "    print(\"\\nFinal dataframe for visualization:\")\n",
    "    print(segment_pivot.head(2))\n",
    "    \n",
    "    # Plot the heatmap\n",
    "    ax = sns.heatmap(segment_pivot, annot=True, cmap='YlGnBu', fmt='.1f')\n",
    "    plt.title('Segment Performance Heatmap', fontsize=16)\n",
    "    plt.tight_layout()\n",
    "    plt.show()\n",
    "    \n",
    "except Exception as e:\n",
    "    print(f\"Error creating heatmap: {e}\")\n",
    "    print(\"\\nFalling back to simple tabular display:\")\n",
    "    display(segment_avg[['Segment', 'Recency', 'Frequency', 'Monetary']].sort_values('Segment'))"
   ],
   "outputs": []
  },
  {
   "cell_type": "code",
   "execution_count": null,
   "metadata": {},
   "source": [
    "# Visualize the 3D RFM space\n",
    "fig = px.scatter_3d(rfm, x='Recency', y='Frequency', z='Monetary',\n",
    "                   color='Segment', hover_name='CUSTOMERNAME',\n",
    "                   opacity=0.7, width=900, height=700)\n",
    "fig.update_layout(title='3D RFM Segmentation')\n",
    "fig.show()"
   ],
   "outputs": []
  },
  {
   "cell_type": "markdown",
   "metadata": {},
   "source": [
    "## 6. Deeper Analysis by Segment"
   ]
  },
  {
   "cell_type": "code",
   "execution_count": null,
   "metadata": {},
   "source": [
    "# Merge the original sales data with the RFM segments\n",
    "sales_with_segment = pd.merge(sales_data, rfm[['CUSTOMERNAME', 'Segment']], on='CUSTOMERNAME', how='left')\n",
    "\n",
    "# Group by segment and calculate metrics\n",
    "segment_sales = sales_with_segment.groupby('Segment').agg({\n",
    "    'SALES': 'sum',\n",
    "    'ORDERNUMBER': 'nunique',\n",
    "    'CUSTOMERNAME': 'nunique'\n",
    "}).reset_index()\n",
    "\n",
    "segment_sales.columns = ['Segment', 'Total Sales', 'Total Orders', 'Customer Count']\n",
    "segment_sales['Avg Order Value'] = segment_sales['Total Sales'] / segment_sales['Total Orders']\n",
    "segment_sales['Avg Customer Value'] = segment_sales['Total Sales'] / segment_sales['Customer Count']\n",
    "\n",
    "# Round the values\n",
    "segment_sales['Avg Order Value'] = segment_sales['Avg Order Value'].round(2)\n",
    "segment_sales['Avg Customer Value'] = segment_sales['Avg Customer Value'].round(2)\n",
    "segment_sales['Total Sales'] = segment_sales['Total Sales'].round(2)\n",
    "\n",
    "# Sort by total sales\n",
    "segment_sales = segment_sales.sort_values('Total Sales', ascending=False)\n",
    "segment_sales"
   ],
   "outputs": []
  },
  {
   "cell_type": "code",
   "execution_count": null,
   "metadata": {},
   "source": [
    "# Visualize the average customer value by segment\n",
    "plt.figure(figsize=(12, 6))\n",
    "sns.barplot(x='Segment', y='Avg Customer Value', data=segment_sales.sort_values('Avg Customer Value', ascending=False))\n",
    "plt.title('Average Customer Value by Segment', fontsize=16)\n",
    "plt.xticks(rotation=45, ha='right')\n",
    "plt.tight_layout()\n",
    "plt.show()"
   ],
   "outputs": []
  },
  {
   "cell_type": "code",
   "execution_count": null,
   "metadata": {},
   "source": [
    "# Visualize the percentage of total sales by segment\n",
    "plt.figure(figsize=(10, 10))\n",
    "segment_sales['Sales Percentage'] = segment_sales['Total Sales'] / segment_sales['Total Sales'].sum() * 100\n",
    "plt.pie(segment_sales['Sales Percentage'], labels=segment_sales['Segment'], autopct='%1.1f%%', \n",
    "        startangle=90, shadow=True, explode=[0.05]*len(segment_sales))\n",
    "plt.title('Percentage of Total Sales by Customer Segment', fontsize=16)\n",
    "plt.axis('equal')\n",
    "plt.show()"
   ],
   "outputs": []
  },
  {
   "cell_type": "markdown",
   "metadata": {},
   "source": [
    "## 7. Product Line Analysis by Segment"
   ]
  },
  {
   "cell_type": "code",
   "execution_count": null,
   "metadata": {},
   "source": [
    "# Analyze product preferences by segment\n",
    "product_segment = sales_with_segment.groupby(['Segment', 'PRODUCTLINE']).agg({\n",
    "    'SALES': 'sum',\n",
    "    'ORDERNUMBER': 'nunique'\n",
    "}).reset_index()\n",
    "\n",
    "# Sort by segment and sales\n",
    "product_segment = product_segment.sort_values(['Segment', 'SALES'], ascending=[True, False])\n",
    "product_segment"
   ],
   "outputs": []
  },
  {
   "cell_type": "code",
   "execution_count": null,
   "metadata": {},
   "source": [
    "# Create a pivot table for better visualization\n",
    "product_pivot = sales_with_segment.pivot_table(index='Segment', \n",
    "                                              columns='PRODUCTLINE', \n",
    "                                              values='SALES', \n",
    "                                              aggfunc='sum')\n",
    "\n",
    "# Visualize the product preferences\n",
    "plt.figure(figsize=(14, 10))\n",
    "sns.heatmap(product_pivot, annot=True, fmt='.0f', cmap='viridis')\n",
    "plt.title('Product Line Preferences by Customer Segment', fontsize=16)\n",
    "plt.tight_layout()\n",
    "plt.show()"
   ],
   "outputs": []
  },
  {
   "cell_type": "markdown",
   "metadata": {},
   "source": [
    "## 8. Regional Analysis by Segment"
   ]
  },
  {
   "cell_type": "code",
   "execution_count": null,
   "metadata": {},
   "source": [
    "# Analyze regional distribution by segment\n",
    "region_segment = sales_with_segment.groupby(['Segment', 'COUNTRY']).agg({\n",
    "    'CUSTOMERNAME': 'nunique',\n",
    "    'SALES': 'sum'\n",
    "}).reset_index()\n",
    "\n",
    "# Sort by segment and number of customers\n",
    "region_segment = region_segment.sort_values(['Segment', 'CUSTOMERNAME'], ascending=[True, False])\n",
    "region_segment.columns = ['Segment', 'Country', 'Customer Count', 'Total Sales']\n",
    "\n",
    "# Get top 5 countries by segment\n",
    "def get_top_n(group, n=3):\n",
    "    return group.nlargest(n, 'Customer Count')\n",
    "\n",
    "top_countries = region_segment.groupby('Segment').apply(get_top_n).reset_index(drop=True)\n",
    "top_countries"
   ],
   "outputs": []
  },
  {
   "cell_type": "code",
   "execution_count": null,
   "metadata": {},
   "source": [
    "# Plot top countries for selected segments\n",
    "important_segments = ['Champions', 'Loyal Customers', 'At Risk', 'Cant Lose Them']\n",
    "filtered_data = top_countries[top_countries['Segment'].isin(important_segments)]\n",
    "\n",
    "plt.figure(figsize=(14, 8))\n",
    "chart = sns.barplot(x='Country', y='Customer Count', hue='Segment', data=filtered_data)\n",
    "plt.title('Top Countries by Important Customer Segments', fontsize=16)\n",
    "plt.xticks(rotation=45, ha='right')\n",
    "plt.legend(title='Segment')\n",
    "plt.tight_layout()\n",
    "plt.show()"
   ],
   "outputs": []
  },
  {
   "cell_type": "markdown",
   "metadata": {},
   "source": [
    "## 9. RFM Segment Recommendations"
   ]
  },
  {
   "cell_type": "code",
   "execution_count": null,
   "metadata": {},
   "source": [
    "# Create a dataframe with segment descriptions and recommended actions\n",
    "segment_descriptions = pd.DataFrame({\n",
    "    'Segment': [\n",
    "        'Champions', 'Loyal Customers', 'Potential Loyalists', 'New Customers',\n",
    "        'Promising', 'Customers Needing Attention', 'About To Sleep',\n",
    "        'At Risk', 'Cant Lose Them', 'Hibernating', 'Lost'\n",
    "    ],\n",
    "    'Description': [\n",
    "        'Best customers who buy often and spend the most',\n",
    "        'Regular shoppers with above-average monetary value',\n",
    "        'Recent customers with moderate frequency, could become loyal',\n",
    "        'Customers who recently made their first purchases',\n",
    "        'Recent shoppers who haven\\'t spent much',\n",
    "        'Average recency, frequency, and monetary values',\n",
    "        'Below average recency and frequency, at risk of losing',\n",
    "        'Once valuable customers who haven\\'t purchased recently',\n",
    "        'Made big purchases a long time ago, but haven\\'t returned recently',\n",
    "        'Low recency and frequency, but above average monetary value',\n",
    "        'Lowest recency, frequency, and monetary values'\n",
    "    ],\n",
    "    'Recommended Actions': [\n",
    "        'Reward, upsell premium products, seek reviews, create brand ambassadors',\n",
    "        'Engage with loyalty programs, personalized communication, exclusive offers',\n",
    "        'Targeted offers, early product access, encourage more frequent purchases',\n",
    "        'Welcome series, education on value proposition, first-time buyer promotions',\n",
    "        'Provide first-purchase incentives, build relationship, educational content',\n",
    "        'Reactivation campaigns, satisfaction surveys, personalized recommendations',\n",
    "        'Reactivation with higher incentives, remind of value proposition',\n",
    "        'Winback campaigns, deep discounts, re-engagement content',\n",
    "        'Reactivation outreach, special renewal offers, VIP treatment',\n",
    "        'Reactivation campaigns, remind of past purchases, new product alerts',\n",
    "        'Very deep discounts or remove from marketing list to save costs'\n",
    "    ]\n",
    "})\n",
    "\n",
    "segment_descriptions"
   ],
   "outputs": []
  },
  {
   "cell_type": "markdown",
   "metadata": {},
   "source": [
    "## 10. Export Top Customers by Segment"
   ]
  },
  {
   "cell_type": "code",
   "execution_count": null,
   "metadata": {},
   "source": [
    "# Get top 5 customers by monetary value in each segment\n",
    "top_customers = rfm.sort_values(['Segment', 'Monetary'], ascending=[True, False])\n",
    "top_segment_customers = top_customers.groupby('Segment').head(5)\n",
    "\n",
    "# Select relevant columns for the final report\n",
    "top_segment_customers = top_segment_customers[['CUSTOMERNAME', 'Segment', 'Recency', 'Frequency', 'Monetary']]\n",
    "top_segment_customers.sort_values(['Segment', 'Monetary'], ascending=[True, False])"
   ],
   "outputs": []
  },
  {
   "cell_type": "markdown",
   "metadata": {},
   "source": [
    "## 11. RFM Executive Summary\n",
    "\n",
    "Based on our RFM analysis, we've segmented the customer base into different groups based on their purchasing behavior. Here are the key findings:\n",
    "\n",
    "1. **Champions** - These are our best customers, who buy often and spend the most. They should be prioritized for rewards, special offers, and referral programs.\n",
    "\n",
    "2. **At Risk Customers** - We've identified a segment of once valuable customers who haven't purchased recently. These need immediate attention with winback campaigns.\n",
    "\n",
    "3. **Potential Loyalists** - Recent customers with moderate frequency who could be converted to loyal customers with the right approach.\n",
    "\n",
    "4. **Product Preferences** - Different segments show distinct product preferences that can be leveraged for targeted marketing campaigns.\n",
    "\n",
    "5. **Regional Distribution** - Customer segments are not evenly distributed across regions, suggesting opportunity for region-specific strategies.\n",
    "\n",
    "**Recommendations:**\n",
    "- Implement segment-specific marketing strategies based on the recommendations provided\n",
    "- Create automated workflows to maintain customer segment information up-to-date\n",
    "- Develop dashboards to track segment migration over time\n",
    "- Design experiments to test effectiveness of segment-specific marketing actions"
   ]
  }
 ],
 "metadata": {
  "kernelspec": {
   "display_name": "Python 3",
   "language": "python",
   "name": "python3"
  },
  "language_info": {
   "codemirror_mode": {
    "name": "ipython",
    "version": 3
   },
   "file_extension": ".py",
   "mimetype": "text/x-python",
   "name": "python",
   "nbconvert_exporter": "python",
   "pygments_lexer": "ipython3",
   "version": "3.8.8"
  }
 },
 "nbformat": 4,
 "nbformat_minor": 4
}